{
 "cells": [
  {
   "cell_type": "code",
   "execution_count": 8,
   "id": "d55d08ab",
   "metadata": {},
   "outputs": [
    {
     "data": {
      "application/vnd.jupyter.widget-view+json": {
       "model_id": "202a7522a615423b9fc73cc3c9febec1",
       "version_major": 2,
       "version_minor": 0
      },
      "text/plain": [
       "VBox(children=(HTML(value='<h3>Pack Configuration Form</h3>'), VBox(children=(HBox(children=(VBox(children=(VB…"
      ]
     },
     "metadata": {},
     "output_type": "display_data"
    },
    {
     "data": {
      "text/html": [
       "\n",
       "<style>\n",
       "    b {\n",
       "        font-size: 18px;\n",
       "    }\n",
       "</style>\n"
      ],
      "text/plain": [
       "<IPython.core.display.HTML object>"
      ]
     },
     "metadata": {},
     "output_type": "display_data"
    }
   ],
   "source": [
    "import ipywidgets as widgets\n",
    "from IPython.display import display, HTML\n",
    "import time\n",
    "import numpy as np\n",
    "\n",
    "output_area = widgets.Output()\n",
    "\n",
    "def set_custom_output(text):\n",
    "    with output_area:\n",
    "        output_area.clear_output()\n",
    "        print(text)\n",
    "\n",
    "def create_selectable_array(label, options, trim_projections, default_selected=None):\n",
    "    dropdown = widgets.Dropdown(\n",
    "        options=options,\n",
    "        description=f'Select {label}:',\n",
    "        style={'description_width': 'initial'},\n",
    "        layout=widgets.Layout(width='auto', max_width='300px')\n",
    "    )\n",
    "\n",
    "    add_button = widgets.Button(\n",
    "        description='Add',\n",
    "        button_style='primary',\n",
    "        layout=widgets.Layout(width='auto', margin='0 0 0 5px')\n",
    "    )\n",
    "\n",
    "    array_box = widgets.HBox([])\n",
    "    added_items = set()\n",
    "\n",
    "    # Check if default_selected is a list and add those items\n",
    "    if isinstance(default_selected, list):\n",
    "        for selected in default_selected:\n",
    "            if selected in options:\n",
    "                added_items.add(selected)\n",
    "                item_label = widgets.Label(selected)\n",
    "                remove_button = widgets.Button(\n",
    "                    description='x',\n",
    "                    button_style='danger',\n",
    "                    layout=widgets.Layout(width='auto', margin='0 10px 0 10px')\n",
    "                )\n",
    "\n",
    "                def remove_item(btn, selected_value=selected):  # Capture selected_value\n",
    "                    if selected_value in added_items:\n",
    "                        added_items.remove(selected_value)\n",
    "                        array_box.children = [child for child in array_box.children if child.children[0].value != selected_value]\n",
    "                    trim_projections.disabled = (\"Notional\" not in added_items)\n",
    "                    if trim_projections.disabled:\n",
    "                        trim_projections.value = False\n",
    "                remove_button.on_click(remove_item)\n",
    "                item_box = widgets.HBox([item_label, remove_button])\n",
    "                array_box.children += (item_box,)\n",
    "\n",
    "    def add_item(b):\n",
    "        if dropdown.value and dropdown.value not in added_items:\n",
    "            added_items.add(dropdown.value)\n",
    "            item_label = widgets.Label(dropdown.value)\n",
    "            remove_button = widgets.Button(\n",
    "                description='x',\n",
    "                button_style='danger',\n",
    "                layout=widgets.Layout(width='auto', margin='0 10px 0 10px')\n",
    "            )\n",
    "\n",
    "            def remove_item(btn, selected_value=dropdown.value):  # Capture selected_value\n",
    "                if selected_value in added_items:\n",
    "                    added_items.remove(selected_value)\n",
    "                    array_box.children = [child for child in array_box.children if child.children[0].value != selected_value]\n",
    "                trim_projections.disabled = (\"Notional\" not in added_items)\n",
    "                if trim_projections.disabled:\n",
    "                    trim_projections.value = False\n",
    "                \n",
    "            remove_button.on_click(remove_item)\n",
    "            item_box = widgets.HBox([item_label, remove_button])\n",
    "            array_box.children += (item_box,)\n",
    "        \n",
    "        trim_projections.disabled = (\"Notional\" not in added_items)\n",
    "        if trim_projections.disabled:\n",
    "            trim_projections.value = False\n",
    "\n",
    "    add_button.on_click(add_item)\n",
    "\n",
    "    dropdown_row = widgets.HBox([dropdown, add_button], layout=widgets.Layout(margin='5px 0px', align_items='center'))\n",
    "    return widgets.VBox([dropdown_row, array_box], layout=widgets.Layout(margin='5px 0px'), align_items='center', flex_flow='row wrap', font_size=\"16px\")\n",
    "\n",
    "def create_pack_config(remove_button_callback, default_pack_type='Group'):\n",
    "    global_header = widgets.HTML(\"<b>Global Inputs</b>\")\n",
    "    \n",
    "    # Mapping of display names to NumPy date values\n",
    "    as_of_date_options = {\n",
    "        '2024-01-01': np.datetime64('2024-01-01'),\n",
    "        '2024-02-01': np.datetime64('2024-02-01'),\n",
    "        '2024-03-01': np.datetime64('2024-03-01')\n",
    "    }\n",
    "    \n",
    "    as_of_date = widgets.Dropdown(\n",
    "        options=list(as_of_date_options.keys()),\n",
    "        description='As of Date:',\n",
    "        style={'description_width': 'initial'},\n",
    "        layout=widgets.Layout(width='auto', max_width='200px')\n",
    "    )\n",
    "    \n",
    "    pack_type = widgets.Dropdown(\n",
    "        options=['Group', 'Channel', 'Entity'],\n",
    "        description='Pack Type:',\n",
    "        style={'description_width': 'initial'},\n",
    "        value=default_pack_type,\n",
    "        layout=widgets.Layout(width='auto', max_width='200px')\n",
    "    )\n",
    "    \n",
    "    trim_projections = widgets.Checkbox(\n",
    "        value=True,\n",
    "        description='Trim Projections',\n",
    "        style={'description_width': 'initial'}\n",
    "    )\n",
    "\n",
    "    entities = create_selectable_array('Entity', ['Entity A', 'Entity B', 'Entity C'], trim_projections, default_selected= ['Entity A'])\n",
    "    entities.layout.display = 'none'\n",
    "    \n",
    "    metrics = create_selectable_array('Metric', ['Notional', 'Interest', 'Yield'], trim_projections, default_selected= ['Notional'])\n",
    "    bt_months = create_selectable_array('BT Month', [str(i) for i in range(1, 13)], trim_projections, default_selected=['1', '3', '6', '12'])\n",
    "    \n",
    "    include_active = widgets.Checkbox(\n",
    "        value=(default_pack_type in ['Channel', 'Entity']),\n",
    "        description='Include Only Active Channels',\n",
    "        style={'description_width': 'initial'}\n",
    "    )\n",
    "    \n",
    "    def update_fields(change):\n",
    "        if pack_type.value == 'Entity':\n",
    "            entities.layout.display = 'block'\n",
    "            include_active.value = True\n",
    "            include_sensitivity.value = False  # Uncheck the checkbox\n",
    "            include_sensitivity.disabled = True  # Disable the checkbox\n",
    "        else:\n",
    "            entities.layout.display = 'none'\n",
    "            include_sensitivity.value = True\n",
    "            include_active.value = (pack_type.value == 'Channel')\n",
    "            include_sensitivity.disabled = False  # Enable the checkbox if not 'Entity'\n",
    "     \n",
    "    pack_type.observe(update_fields, names='value')\n",
    "    \n",
    "    plot_header = widgets.HTML(\"<b>Plot Inputs</b>\")\n",
    "    \n",
    "    rate_scenario = widgets.Dropdown(\n",
    "        options=['Scenario 1', 'Scenario 2', 'Scenario 3'],\n",
    "        description='Rate Scenario:',\n",
    "        style={'description_width': 'initial'},\n",
    "        layout=widgets.Layout(width='auto', max_width='200px')\n",
    "    )\n",
    "    \n",
    "    table_header = widgets.HTML(\"<b>Table Inputs</b>\")\n",
    "    rate_shock_scenario = widgets.Dropdown(\n",
    "        options=['Shock 1', 'Shock 2', 'Shock 3'],\n",
    "        description='Rate Shock Scenario:',\n",
    "        style={'description_width': 'initial'},\n",
    "        layout=widgets.Layout(width='auto', max_width='300px')  # Increase max_width\n",
    "    )\n",
    "    \n",
    "    include_sensitivity = widgets.Checkbox(\n",
    "        value=(pack_type.value != 'Entity'),\n",
    "        description='Include Sensitivity Cols',\n",
    "        style={'description_width': 'initial'},\n",
    "        disabled=(pack_type.value == 'Entity')\n",
    "    )\n",
    "    \n",
    "    remove_button = widgets.Button(\n",
    "        description='x',\n",
    "        button_style='danger',\n",
    "        layout=widgets.Layout(width='30px', height='30px', margin='10px 0 10px 0')  # Flush with box\n",
    "    )\n",
    "    remove_button.on_click(remove_button_callback)\n",
    "\n",
    "    global_inputs = widgets.VBox([global_header, as_of_date, pack_type, entities, metrics, bt_months, include_active])\n",
    "    plot_inputs = widgets.VBox([plot_header, rate_scenario, trim_projections])\n",
    "    table_inputs = widgets.VBox([table_header, rate_shock_scenario, include_sensitivity])\n",
    "    \n",
    "    return widgets.HBox([widgets.VBox([global_inputs, plot_inputs, table_inputs], \n",
    "                                       layout=widgets.Layout(border='1px solid gray', padding='10px', margin='10px 0px', width='auto')),\n",
    "                         remove_button])\n",
    "\n",
    "pack_configs = []\n",
    "add_button = widgets.Button(\n",
    "    description='Add Pack Configuration',\n",
    "    icon='plus',\n",
    "    button_style='info',\n",
    "    layout=widgets.Layout(width='320px')\n",
    ")\n",
    "\n",
    "form_container = widgets.VBox()\n",
    "run_button = widgets.Button(\n",
    "    description='Run',\n",
    "    button_style='success',\n",
    "    icon='check',\n",
    "    layout=widgets.Layout(width='320px', margin='10px 0px')\n",
    ")\n",
    "\n",
    "def add_new_pack_config(b):\n",
    "    def remove_pack_config(change):\n",
    "        pack_configs.remove(new_pack_config)\n",
    "        form_container.children = pack_configs\n",
    "\n",
    "    new_pack_config = create_pack_config(remove_pack_config)\n",
    "    pack_configs.append(new_pack_config)\n",
    "    form_container.children = pack_configs\n",
    "\n",
    "add_new_pack_config(None)\n",
    "add_button.on_click(add_new_pack_config)\n",
    "\n",
    "def set_form_enabled(enabled):\n",
    "    for config in pack_configs:\n",
    "        for widget in config.children[0].children:\n",
    "            widget.disabled = not enabled\n",
    "        config.children[1].disabled = not enabled\n",
    "\n",
    "    add_button.disabled = not enabled\n",
    "    run_button.disabled = not enabled\n",
    "\n",
    "def collect_form_values():\n",
    "    form_values = []\n",
    "    for config in pack_configs:\n",
    "        # Access the correct widgets using their indices\n",
    "        global_inputs = config.children[0].children\n",
    "        \n",
    "        entities = [child.children[0].value for child in global_inputs[3].children[1].children if isinstance(child, widgets.HBox)]\n",
    "        metrics = [child.children[0].value for child in global_inputs[4].children[1].children if isinstance(child, widgets.HBox)]\n",
    "        bt_months = [child.children[0].value for child in global_inputs[5].children[1].children if isinstance(child, widgets.HBox)]\n",
    "\n",
    "        # Check for at least one item selected in each multiple select box\n",
    "        if not entities or not metrics or not bt_months:\n",
    "            set_custom_output(\"Error: Each multiple select box must have at least one item selected.\")\n",
    "            return []\n",
    "\n",
    "        pack_value = {\n",
    "            'pack_type': global_inputs[1].value,  # Pack Type\n",
    "            'as_of_date': as_of_date_options[global_inputs[0].value],  # As of Date\n",
    "            'entities': entities,  # Entities\n",
    "            'metrics': metrics,  # Metrics\n",
    "            'bt_months': bt_months,  # BT Months\n",
    "            'include_active': global_inputs[5].value  # Include Active\n",
    "        }\n",
    "        form_values.append(pack_value)\n",
    "    return form_values\n",
    "\n",
    "def run_function(b):\n",
    "    set_form_enabled(False)\n",
    "    set_custom_output(\"Running... Please wait.\")\n",
    "    time.sleep(3)\n",
    "    values = collect_form_values()\n",
    "    if values:  # Only show if collection was successful\n",
    "        set_custom_output(f\"Run completed. Collected values: {values}\")\n",
    "    set_form_enabled(True)\n",
    "\n",
    "run_button.on_click(run_function)\n",
    "\n",
    "title = widgets.HTML(\"<h3>Pack Configuration Form</h3>\")\n",
    "display(widgets.VBox([title, form_container, add_button, run_button, output_area]))\n",
    "\n",
    "display(HTML('''\n",
    "<style>\n",
    "    b {\n",
    "        font-size: 18px;\n",
    "    }\n",
    "</style>\n",
    "'''))\n",
    "\n",
    "# notional label bug!!!"
   ]
  },
  {
   "cell_type": "code",
   "execution_count": 11,
   "id": "dbd4db8e",
   "metadata": {},
   "outputs": [],
   "source": [
    "import re\n",
    "input_string = str(pack_configs)"
   ]
  },
  {
   "cell_type": "code",
   "execution_count": 12,
   "id": "bda67920",
   "metadata": {},
   "outputs": [
    {
     "data": {
      "text/plain": [
       "['Entity A', 'Notional', 'Interest', '1', '3', '6', '12']"
      ]
     },
     "execution_count": 12,
     "metadata": {},
     "output_type": "execute_result"
    }
   ],
   "source": [
    "pattern = r\"Label\\(value='([^']+)'\\).*?Button\\(button_style='danger'\"\n",
    "matches = re.findall(pattern, input_string, re.DOTALL)\n",
    "matches"
   ]
  },
  {
   "cell_type": "code",
   "execution_count": 13,
   "id": "c676acbf",
   "metadata": {},
   "outputs": [
    {
     "data": {
      "text/plain": [
       "['Entity A', 'Notional', 'Interest', '1', '3', '6', '12']"
      ]
     },
     "execution_count": 13,
     "metadata": {},
     "output_type": "execute_result"
    }
   ],
   "source": [
    "new_str = input_string[input_string.find(\"HBox\")+1:]\n",
    "matches = re.findall(pattern, new_str, re.DOTALL)\n",
    "matches"
   ]
  },
  {
   "cell_type": "code",
   "execution_count": 14,
   "id": "8ec7b6c7",
   "metadata": {},
   "outputs": [
    {
     "data": {
      "text/plain": [
       "1"
      ]
     },
     "execution_count": 14,
     "metadata": {},
     "output_type": "execute_result"
    }
   ],
   "source": [
    "input_string.find(\"HBox\")"
   ]
  },
  {
   "cell_type": "code",
   "execution_count": 15,
   "id": "3f2caf83",
   "metadata": {},
   "outputs": [
    {
     "data": {
      "text/plain": [
       "['1', '3', '6', '12']"
      ]
     },
     "execution_count": 15,
     "metadata": {},
     "output_type": "execute_result"
    }
   ],
   "source": [
    "Test = input_string.split(\"Dropdown\")\n",
    "matches = re.findall(pattern, Test[5], re.DOTALL)\n",
    "matches"
   ]
  },
  {
   "cell_type": "code",
   "execution_count": 16,
   "id": "7dc556dc",
   "metadata": {},
   "outputs": [
    {
     "data": {
      "text/plain": [
       "[('<b>Global Inputs</b>', ''),\n",
       " ('2024-01-01', ''),\n",
       " ('Group', ''),\n",
       " ('Entity A', ''),\n",
       " ('Entity A', ''),\n",
       " ('Interest', ''),\n",
       " ('Notional', ''),\n",
       " ('Interest', ''),\n",
       " ('1', ''),\n",
       " ('1', ''),\n",
       " ('3', ''),\n",
       " ('6', ''),\n",
       " ('12', ''),\n",
       " ('', 'False'),\n",
       " ('<b>Plot Inputs</b>', ''),\n",
       " ('Scenario 1', ''),\n",
       " ('', 'True'),\n",
       " ('<b>Table Inputs</b>', ''),\n",
       " ('Shock 1', ''),\n",
       " ('', 'True')]"
      ]
     },
     "execution_count": 16,
     "metadata": {},
     "output_type": "execute_result"
    }
   ],
   "source": [
    "pattern = r\"value='([^']+)'|Checkbox\\(value=(True|False),\"\n",
    "matches = re.findall(pattern, input_string, re.DOTALL)\n",
    "matches = [match for match in matches if \"<b>\" not in match]\n",
    "matches"
   ]
  },
  {
   "cell_type": "code",
   "execution_count": 17,
   "id": "3b7ba030",
   "metadata": {},
   "outputs": [
    {
     "name": "stdout",
     "output_type": "stream",
     "text": [
      "['2024-01-01', 'Group', 'Entity A', 'Entity A', 'Interest', 'Notional', 'Interest', '1', '1', '3', '6', '12', 'False', 'Scenario 1', 'True', 'Shock 1', 'True']\n"
     ]
    }
   ],
   "source": [
    "import re\n",
    "\n",
    "# Define the regex pattern\n",
    "pattern = r\"value='([^']+)'|Checkbox\\(value=(True|False),\"\n",
    "\n",
    "# Find all matches in the input string\n",
    "matches = re.findall(pattern, input_string)\n",
    "\n",
    "# Create a flat list of matches\n",
    "flat_matches = [match for group in matches for match in group if (match and \"<b>\" not in match)]\n",
    "\n",
    "# Print the flat matches\n",
    "print(flat_matches)"
   ]
  },
  {
   "cell_type": "code",
   "execution_count": 18,
   "id": "06cf20cf",
   "metadata": {},
   "outputs": [
    {
     "data": {
      "text/plain": [
       "\"[HBox(children=(VBox(children=(VBox(children=(HTML(value='<b>Global Inputs</b>'), Dropdown(description='As of Date:', layout=Layout(max_width='200px', width='auto'), options=('2024-01-01', '2024-02-01', '2024-03-01'), style=DescriptionStyle(description_width='initial'), value='2024-01-01'), Dropdown(description='Pack Type:', layout=Layout(max_width='200px', width='auto'), options=('Group', 'Channel', 'Entity'), style=DescriptionStyle(description_width='initial'), value='Group'), VBox(children=(HBox(children=(Dropdown(description='Select Entity:', layout=Layout(max_width='300px', width='auto'), options=('Entity A', 'Entity B', 'Entity C'), style=DescriptionStyle(description_width='initial'), value='Entity A'), Button(button_style='primary', description='Add', layout=Layout(margin='0 0 0 5px', width='auto'), style=ButtonStyle())), layout=Layout(align_items='center', margin='5px 0px')), HBox(children=(HBox(children=(Label(value='Entity A'), Button(button_style='danger', description='x', layout=Layout(margin='0 10px 0 10px', width='auto'), style=ButtonStyle()))),))), layout=Layout(display='none', margin='5px 0px')), VBox(children=(HBox(children=(Dropdown(description='Select Metric:', index=1, layout=Layout(max_width='300px', width='auto'), options=('Notional', 'Interest', 'Yield'), style=DescriptionStyle(description_width='initial'), value='Interest'), Button(button_style='primary', description='Add', layout=Layout(margin='0 0 0 5px', width='auto'), style=ButtonStyle())), layout=Layout(align_items='center', margin='5px 0px')), HBox(children=(HBox(children=(Label(value='Notional'), Button(button_style='danger', description='x', layout=Layout(margin='0 10px 0 10px', width='auto'), style=ButtonStyle()))), HBox(children=(Label(value='Interest'), Button(button_style='danger', description='x', layout=Layout(margin='0 10px 0 10px', width='auto'), style=ButtonStyle())))))), layout=Layout(margin='5px 0px')), VBox(children=(HBox(children=(Dropdown(description='Select BT Month(s):', layout=Layout(max_width='300px', width='auto'), options=('1', '2', '3', '4', '5', '6', '7', '8', '9', '10', '11', '12'), style=DescriptionStyle(description_width='initial'), value='1'), Button(button_style='primary', description='Add', layout=Layout(margin='0 0 0 5px', width='auto'), style=ButtonStyle())), layout=Layout(align_items='center', margin='5px 0px')), HBox(children=(HBox(children=(Label(value='1'), Button(button_style='danger', description='x', layout=Layout(margin='0 10px 0 10px', width='auto'), style=ButtonStyle()))), HBox(children=(Label(value='3'), Button(button_style='danger', description='x', layout=Layout(margin='0 10px 0 10px', width='auto'), style=ButtonStyle()))), HBox(children=(Label(value='6'), Button(button_style='danger', description='x', layout=Layout(margin='0 10px 0 10px', width='auto'), style=ButtonStyle()))), HBox(children=(Label(value='12'), Button(button_style='danger', description='x', layout=Layout(margin='0 10px 0 10px', width='auto'), style=ButtonStyle())))))), layout=Layout(margin='5px 0px')), Checkbox(value=False, description='Include Only Active Channels', style=DescriptionStyle(description_width='initial')))), VBox(children=(HTML(value='<b>Plot Inputs</b>'), Dropdown(description='Rate Scenario:', layout=Layout(max_width='200px', width='auto'), options=('Scenario 1', 'Scenario 2', 'Scenario 3'), style=DescriptionStyle(description_width='initial'), value='Scenario 1'), Checkbox(value=True, description='Trim Projections', style=DescriptionStyle(description_width='initial')))), VBox(children=(HTML(value='<b>Table Inputs</b>'), Dropdown(description='Rate Shock Scenario:', layout=Layout(max_width='300px', width='auto'), options=('Shock 1', 'Shock 2', 'Shock 3'), style=DescriptionStyle(description_width='initial'), value='Shock 1'), Checkbox(value=True, description='Include Sensitivity Cols', style=DescriptionStyle(description_width='initial'))))), layout=Layout(border='1px solid gray', margin='10px 0px', padding='10px', width='50%')), Button(button_style='danger', description='x', layout=Layout(height='30px', margin='10px 0 10px 0', width='30px'), style=ButtonStyle())))]\""
      ]
     },
     "execution_count": 18,
     "metadata": {},
     "output_type": "execute_result"
    }
   ],
   "source": [
    "input_string"
   ]
  },
  {
   "cell_type": "code",
   "execution_count": 27,
   "id": "4c82bf04",
   "metadata": {},
   "outputs": [
    {
     "name": "stdout",
     "output_type": "stream",
     "text": [
      "['2024-01-01', 'Group', 'Entity A', 'Entity A', 'Interest', 'Notional', 'Interest', '1', '1', '3', '6', '12', 'Scenario 1', 'Shock 1']\n"
     ]
    }
   ],
   "source": [
    "import re\n",
    "\n",
    "# Regular expression pattern\n",
    "pattern = r\"value='([^']+)'|Checkbox\\(value=(True|False)\\)\"\n",
    "\n",
    "# Find all matches\n",
    "matches = re.findall(pattern, input_string)\n",
    "\n",
    "# Flatten the list of tuples into a flat list\n",
    "flat_matches = [match for group in matches for match in group if match and \"<b>\" not in match]\n",
    "\n",
    "print(flat_matches)"
   ]
  },
  {
   "cell_type": "code",
   "execution_count": null,
   "id": "00afc733",
   "metadata": {},
   "outputs": [],
   "source": []
  }
 ],
 "metadata": {
  "kernelspec": {
   "display_name": "Python 3 (ipykernel)",
   "language": "python",
   "name": "python3"
  },
  "language_info": {
   "codemirror_mode": {
    "name": "ipython",
    "version": 3
   },
   "file_extension": ".py",
   "mimetype": "text/x-python",
   "name": "python",
   "nbconvert_exporter": "python",
   "pygments_lexer": "ipython3",
   "version": "3.7.6"
  }
 },
 "nbformat": 4,
 "nbformat_minor": 5
}
